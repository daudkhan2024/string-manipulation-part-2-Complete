{
 "cells": [
  {
   "cell_type": "code",
   "execution_count": 28,
   "id": "fe749578",
   "metadata": {},
   "outputs": [],
   "source": [
    "k = [\"full stack data science\"]"
   ]
  },
  {
   "cell_type": "code",
   "execution_count": 29,
   "id": "39e437d4",
   "metadata": {},
   "outputs": [
    {
     "data": {
      "text/plain": [
       "['full stack data science']"
      ]
     },
     "execution_count": 29,
     "metadata": {},
     "output_type": "execute_result"
    }
   ],
   "source": [
    "k"
   ]
  },
  {
   "cell_type": "code",
   "execution_count": 30,
   "id": "95591897",
   "metadata": {
    "scrolled": true
   },
   "outputs": [],
   "source": [
    "b = [\"khan\"]"
   ]
  },
  {
   "cell_type": "code",
   "execution_count": 31,
   "id": "d68d4782",
   "metadata": {},
   "outputs": [
    {
     "data": {
      "text/plain": [
       "['full stack data science', 'khan']"
      ]
     },
     "execution_count": 31,
     "metadata": {},
     "output_type": "execute_result"
    }
   ],
   "source": [
    "k + b"
   ]
  },
  {
   "cell_type": "code",
   "execution_count": 39,
   "id": "705f7c50",
   "metadata": {},
   "outputs": [
    {
     "data": {
      "text/plain": [
       "'khankhankhankhankhankhan'"
      ]
     },
     "execution_count": 39,
     "metadata": {},
     "output_type": "execute_result"
    }
   ],
   "source": [
    "\"khan\" * 6"
   ]
  },
  {
   "cell_type": "code",
   "execution_count": 40,
   "id": "04f57fad",
   "metadata": {},
   "outputs": [],
   "source": [
    "b = \"my name is Khan\""
   ]
  },
  {
   "cell_type": "code",
   "execution_count": 48,
   "id": "e1abadae",
   "metadata": {},
   "outputs": [
    {
     "data": {
      "text/plain": [
       "3"
      ]
     },
     "execution_count": 48,
     "metadata": {},
     "output_type": "execute_result"
    }
   ],
   "source": [
    "b.find(\"n\")"
   ]
  },
  {
   "cell_type": "code",
   "execution_count": 49,
   "id": "7fefdf32",
   "metadata": {},
   "outputs": [
    {
     "data": {
      "text/plain": [
       "'my name is Khan'"
      ]
     },
     "execution_count": 49,
     "metadata": {},
     "output_type": "execute_result"
    }
   ],
   "source": [
    "b"
   ]
  },
  {
   "cell_type": "code",
   "execution_count": 54,
   "id": "e76d9d28",
   "metadata": {},
   "outputs": [],
   "source": [
    "c = [\"shayan\"]+[b]"
   ]
  },
  {
   "cell_type": "code",
   "execution_count": 55,
   "id": "b396e741",
   "metadata": {},
   "outputs": [
    {
     "data": {
      "text/plain": [
       "['shayan', 'my name is Khan']"
      ]
     },
     "execution_count": 55,
     "metadata": {},
     "output_type": "execute_result"
    }
   ],
   "source": [
    "c"
   ]
  },
  {
   "cell_type": "code",
   "execution_count": 64,
   "id": "86e2289c",
   "metadata": {},
   "outputs": [
    {
     "data": {
      "text/plain": [
       "['shayan', 'my name is Khan']"
      ]
     },
     "execution_count": 64,
     "metadata": {},
     "output_type": "execute_result"
    }
   ],
   "source": [
    "c"
   ]
  },
  {
   "cell_type": "code",
   "execution_count": 66,
   "id": "99bf6c8f",
   "metadata": {},
   "outputs": [
    {
     "data": {
      "text/plain": [
       "'my name is Khan'"
      ]
     },
     "execution_count": 66,
     "metadata": {},
     "output_type": "execute_result"
    }
   ],
   "source": [
    "b "
   ]
  },
  {
   "cell_type": "code",
   "execution_count": 67,
   "id": "d70205a3",
   "metadata": {},
   "outputs": [
    {
     "data": {
      "text/plain": [
       "-1"
      ]
     },
     "execution_count": 67,
     "metadata": {},
     "output_type": "execute_result"
    }
   ],
   "source": [
    "b.find(\"kjhkh\")"
   ]
  },
  {
   "cell_type": "code",
   "execution_count": 69,
   "id": "7bfe7614",
   "metadata": {},
   "outputs": [
    {
     "data": {
      "text/plain": [
       "'my name is Khan'"
      ]
     },
     "execution_count": 69,
     "metadata": {},
     "output_type": "execute_result"
    }
   ],
   "source": [
    "b"
   ]
  },
  {
   "cell_type": "code",
   "execution_count": 90,
   "id": "28c5f0c3",
   "metadata": {},
   "outputs": [
    {
     "data": {
      "text/plain": [
       "3"
      ]
     },
     "execution_count": 90,
     "metadata": {},
     "output_type": "execute_result"
    }
   ],
   "source": [
    "b.find(\"name\")"
   ]
  },
  {
   "cell_type": "code",
   "execution_count": 93,
   "id": "711cc9d8",
   "metadata": {},
   "outputs": [],
   "source": [
    "d = \"my name is khan\""
   ]
  },
  {
   "cell_type": "code",
   "execution_count": 95,
   "id": "12b03d00",
   "metadata": {},
   "outputs": [
    {
     "name": "stdout",
     "output_type": "stream",
     "text": [
      "3\n",
      "4\n",
      "5\n",
      "6\n"
     ]
    }
   ],
   "source": [
    "f = d.find(\"name\")\n",
    "for i in range(len(\"name\")):\n",
    "    print(f + i)"
   ]
  },
  {
   "cell_type": "code",
   "execution_count": 96,
   "id": "509a259c",
   "metadata": {},
   "outputs": [
    {
     "data": {
      "text/plain": [
       "1"
      ]
     },
     "execution_count": 96,
     "metadata": {},
     "output_type": "execute_result"
    }
   ],
   "source": [
    "d.count(\"name\")"
   ]
  },
  {
   "cell_type": "code",
   "execution_count": 100,
   "id": "d72a24c3",
   "metadata": {},
   "outputs": [],
   "source": [
    "d = \"my name is khan, My age is 20\""
   ]
  },
  {
   "cell_type": "code",
   "execution_count": 101,
   "id": "d6b54034",
   "metadata": {},
   "outputs": [
    {
     "data": {
      "text/plain": [
       "1"
      ]
     },
     "execution_count": 101,
     "metadata": {},
     "output_type": "execute_result"
    }
   ],
   "source": [
    "d.count(\"my\")"
   ]
  },
  {
   "cell_type": "code",
   "execution_count": 102,
   "id": "5a40af43",
   "metadata": {},
   "outputs": [
    {
     "data": {
      "text/plain": [
       "2"
      ]
     },
     "execution_count": 102,
     "metadata": {},
     "output_type": "execute_result"
    }
   ],
   "source": [
    "d.count(\"m\")"
   ]
  },
  {
   "cell_type": "code",
   "execution_count": 103,
   "id": "3edfec3a",
   "metadata": {},
   "outputs": [
    {
     "data": {
      "text/plain": [
       "'my name is khan, My age is 20'"
      ]
     },
     "execution_count": 103,
     "metadata": {},
     "output_type": "execute_result"
    }
   ],
   "source": [
    "d"
   ]
  },
  {
   "cell_type": "code",
   "execution_count": 110,
   "id": "2d0eba11",
   "metadata": {},
   "outputs": [
    {
     "data": {
      "text/plain": [
       "['my', 'name', 'is', 'khan,', 'My', 'age', 'is', '20']"
      ]
     },
     "execution_count": 110,
     "metadata": {},
     "output_type": "execute_result"
    }
   ],
   "source": [
    "d.split()# it will give a list and split it"
   ]
  },
  {
   "cell_type": "code",
   "execution_count": 111,
   "id": "d675a1f4",
   "metadata": {},
   "outputs": [
    {
     "data": {
      "text/plain": [
       "['my name is khan', ' My age is 20']"
      ]
     },
     "execution_count": 111,
     "metadata": {},
     "output_type": "execute_result"
    }
   ],
   "source": [
    "d.split(\",\") # it will split on basis of comma"
   ]
  },
  {
   "cell_type": "code",
   "execution_count": 112,
   "id": "e2d26c7a",
   "metadata": {},
   "outputs": [
    {
     "data": {
      "text/plain": [
       "['my ', 'ame is kha', ', My age is 20']"
      ]
     },
     "execution_count": 112,
     "metadata": {},
     "output_type": "execute_result"
    }
   ],
   "source": [
    "d.split(\"n\")# it will split on the basis of n"
   ]
  },
  {
   "cell_type": "code",
   "execution_count": 113,
   "id": "bae9cc49",
   "metadata": {},
   "outputs": [
    {
     "data": {
      "text/plain": [
       "['my ', 'me is khan, My age is 20']"
      ]
     },
     "execution_count": 113,
     "metadata": {},
     "output_type": "execute_result"
    }
   ],
   "source": [
    "d.split(\"na\")"
   ]
  },
  {
   "cell_type": "code",
   "execution_count": 114,
   "id": "7cbd36f7",
   "metadata": {},
   "outputs": [
    {
     "data": {
      "text/plain": [
       "list"
      ]
     },
     "execution_count": 114,
     "metadata": {},
     "output_type": "execute_result"
    }
   ],
   "source": [
    "type(d.split(\"na\"))"
   ]
  },
  {
   "cell_type": "code",
   "execution_count": 115,
   "id": "3bba928d",
   "metadata": {},
   "outputs": [
    {
     "data": {
      "text/plain": [
       "'MY NAME IS KHAN, MY AGE IS 20'"
      ]
     },
     "execution_count": 115,
     "metadata": {},
     "output_type": "execute_result"
    }
   ],
   "source": [
    "d.upper()"
   ]
  },
  {
   "cell_type": "code",
   "execution_count": 116,
   "id": "aef259e7",
   "metadata": {},
   "outputs": [
    {
     "data": {
      "text/plain": [
       "'my name is khan, my age is 20'"
      ]
     },
     "execution_count": 116,
     "metadata": {},
     "output_type": "execute_result"
    }
   ],
   "source": [
    "d.lower()"
   ]
  },
  {
   "cell_type": "code",
   "execution_count": 118,
   "id": "c30306b0",
   "metadata": {},
   "outputs": [
    {
     "data": {
      "text/plain": [
       "'MY NAME IS KHAN, mY AGE IS 20'"
      ]
     },
     "execution_count": 118,
     "metadata": {},
     "output_type": "execute_result"
    }
   ],
   "source": [
    "d.swapcase()"
   ]
  },
  {
   "cell_type": "code",
   "execution_count": 127,
   "id": "eb6a0da5",
   "metadata": {},
   "outputs": [
    {
     "data": {
      "text/plain": [
       "'m y   n a m e   i s   k h a n ,   M y   a g e   i s   2 0'"
      ]
     },
     "execution_count": 127,
     "metadata": {},
     "output_type": "execute_result"
    }
   ],
   "source": [
    "\" \".join(d)"
   ]
  },
  {
   "cell_type": "code",
   "execution_count": 123,
   "id": "3a7ac3a3",
   "metadata": {},
   "outputs": [
    {
     "data": {
      "text/plain": [
       "'my name is khan, My age is 20'"
      ]
     },
     "execution_count": 123,
     "metadata": {},
     "output_type": "execute_result"
    }
   ],
   "source": [
    "d"
   ]
  },
  {
   "cell_type": "code",
   "execution_count": 128,
   "id": "e865439e",
   "metadata": {},
   "outputs": [
    {
     "data": {
      "text/plain": [
       "<reversed at 0x7fbc10b75700>"
      ]
     },
     "execution_count": 128,
     "metadata": {},
     "output_type": "execute_result"
    }
   ],
   "source": [
    "reversed(d)"
   ]
  },
  {
   "cell_type": "code",
   "execution_count": 129,
   "id": "3f9bf293",
   "metadata": {},
   "outputs": [
    {
     "data": {
      "text/plain": [
       "'02 si ega yM ,nahk si eman ym'"
      ]
     },
     "execution_count": 129,
     "metadata": {},
     "output_type": "execute_result"
    }
   ],
   "source": [
    "d[::-1]"
   ]
  },
  {
   "cell_type": "code",
   "execution_count": 130,
   "id": "7411c02d",
   "metadata": {},
   "outputs": [
    {
     "data": {
      "text/plain": [
       "'my name is khan, My age is 20'"
      ]
     },
     "execution_count": 130,
     "metadata": {},
     "output_type": "execute_result"
    }
   ],
   "source": [
    "d"
   ]
  },
  {
   "cell_type": "code",
   "execution_count": 131,
   "id": "f9efb9d9",
   "metadata": {},
   "outputs": [
    {
     "name": "stdout",
     "output_type": "stream",
     "text": [
      "0\n",
      "2\n",
      " \n",
      "s\n",
      "i\n",
      " \n",
      "e\n",
      "g\n",
      "a\n",
      " \n",
      "y\n",
      "M\n",
      " \n",
      ",\n",
      "n\n",
      "a\n",
      "h\n",
      "k\n",
      " \n",
      "s\n",
      "i\n",
      " \n",
      "e\n",
      "m\n",
      "a\n",
      "n\n",
      " \n",
      "y\n",
      "m\n"
     ]
    }
   ],
   "source": [
    "for i in reversed(d):\n",
    "    print(i)"
   ]
  },
  {
   "cell_type": "code",
   "execution_count": 132,
   "id": "f9110f6a",
   "metadata": {},
   "outputs": [],
   "source": [
    "a  = \" khan \""
   ]
  },
  {
   "cell_type": "code",
   "execution_count": 134,
   "id": "ada88d9f",
   "metadata": {},
   "outputs": [
    {
     "data": {
      "text/plain": [
       "'khan'"
      ]
     },
     "execution_count": 134,
     "metadata": {},
     "output_type": "execute_result"
    }
   ],
   "source": [
    "a.strip()  #will remove spaces"
   ]
  },
  {
   "cell_type": "code",
   "execution_count": 135,
   "id": "2b59e2f3",
   "metadata": {},
   "outputs": [
    {
     "data": {
      "text/plain": [
       "['k', 'han']"
      ]
     },
     "execution_count": 135,
     "metadata": {},
     "output_type": "execute_result"
    }
   ],
   "source": [
    "a = \"   k   han\"\n",
    "a.split()"
   ]
  },
  {
   "cell_type": "code",
   "execution_count": 137,
   "id": "e2d8b0c1",
   "metadata": {},
   "outputs": [
    {
     "data": {
      "text/plain": [
       "'k   han'"
      ]
     },
     "execution_count": 137,
     "metadata": {},
     "output_type": "execute_result"
    }
   ],
   "source": [
    "a.lstrip()"
   ]
  },
  {
   "cell_type": "code",
   "execution_count": 138,
   "id": "db1d1cc8",
   "metadata": {},
   "outputs": [
    {
     "data": {
      "text/plain": [
       "'   k   han'"
      ]
     },
     "execution_count": 138,
     "metadata": {},
     "output_type": "execute_result"
    }
   ],
   "source": [
    "a.rstrip()"
   ]
  },
  {
   "cell_type": "code",
   "execution_count": 142,
   "id": "6fc90034",
   "metadata": {},
   "outputs": [
    {
     "data": {
      "text/plain": [
       "' pow are you?'"
      ]
     },
     "execution_count": 142,
     "metadata": {},
     "output_type": "execute_result"
    }
   ],
   "source": [
    "a  = \" how are you?\"\n",
    "a.replace('h','p')"
   ]
  },
  {
   "cell_type": "code",
   "execution_count": 144,
   "id": "149afd69",
   "metadata": {},
   "outputs": [
    {
     "data": {
      "text/plain": [
       "' how are you?'"
      ]
     },
     "execution_count": 144,
     "metadata": {},
     "output_type": "execute_result"
    }
   ],
   "source": [
    "a # no changes"
   ]
  },
  {
   "cell_type": "code",
   "execution_count": 145,
   "id": "e98e74cd",
   "metadata": {},
   "outputs": [],
   "source": [
    "# thats the reason strings are immutable"
   ]
  },
  {
   "cell_type": "code",
   "execution_count": 146,
   "id": "897908c0",
   "metadata": {},
   "outputs": [],
   "source": [
    "f = a.replace('h','p')"
   ]
  },
  {
   "cell_type": "code",
   "execution_count": 147,
   "id": "f885195e",
   "metadata": {},
   "outputs": [
    {
     "data": {
      "text/plain": [
       "' pow are you?'"
      ]
     },
     "execution_count": 147,
     "metadata": {},
     "output_type": "execute_result"
    }
   ],
   "source": [
    "f"
   ]
  },
  {
   "cell_type": "code",
   "execution_count": 148,
   "id": "33353a3f",
   "metadata": {},
   "outputs": [
    {
     "data": {
      "text/plain": [
       "' how are you?'"
      ]
     },
     "execution_count": 148,
     "metadata": {},
     "output_type": "execute_result"
    }
   ],
   "source": [
    "a"
   ]
  },
  {
   "cell_type": "code",
   "execution_count": 149,
   "id": "1d31be50",
   "metadata": {},
   "outputs": [],
   "source": [
    "p = \"khan\""
   ]
  },
  {
   "cell_type": "code",
   "execution_count": 150,
   "id": "be1ab1fb",
   "metadata": {},
   "outputs": [
    {
     "data": {
      "text/plain": [
       "'##########khan#########'"
      ]
     },
     "execution_count": 150,
     "metadata": {},
     "output_type": "execute_result"
    }
   ],
   "source": [
    "p.center(23,'#')"
   ]
  },
  {
   "cell_type": "code",
   "execution_count": 171,
   "id": "94acc99a",
   "metadata": {},
   "outputs": [],
   "source": [
    "a = \"we All are learning Full Stack Data science\""
   ]
  },
  {
   "cell_type": "code",
   "execution_count": 172,
   "id": "f8049359",
   "metadata": {},
   "outputs": [
    {
     "data": {
      "text/plain": [
       "'we all are learning full stack data science'"
      ]
     },
     "execution_count": 172,
     "metadata": {},
     "output_type": "execute_result"
    }
   ],
   "source": [
    "a.lower()"
   ]
  },
  {
   "cell_type": "code",
   "execution_count": 176,
   "id": "d1e7963e",
   "metadata": {},
   "outputs": [
    {
     "data": {
      "text/plain": [
       "5"
      ]
     },
     "execution_count": 176,
     "metadata": {},
     "output_type": "execute_result"
    }
   ],
   "source": [
    "a.count('a')"
   ]
  },
  {
   "cell_type": "code",
   "execution_count": 180,
   "id": "692878f9",
   "metadata": {},
   "outputs": [],
   "source": [
    "#finding all indexesm of a"
   ]
  },
  {
   "cell_type": "code",
   "execution_count": 195,
   "id": "9a8c703e",
   "metadata": {},
   "outputs": [],
   "source": [
    "b = a.find(\"a\")"
   ]
  },
  {
   "cell_type": "markdown",
   "id": "63e67d5d",
   "metadata": {},
   "source": [
    "+ task:\n",
    "       # find the index of all a occurance\n",
    "       # replace a with khan\n",
    "       # save it as a list"
   ]
  },
  {
   "cell_type": "code",
   "execution_count": 189,
   "id": "ca32ca81",
   "metadata": {},
   "outputs": [
    {
     "data": {
      "text/plain": [
       "7"
      ]
     },
     "execution_count": 189,
     "metadata": {},
     "output_type": "execute_result"
    }
   ],
   "source": [
    "b"
   ]
  },
  {
   "cell_type": "code",
   "execution_count": 197,
   "id": "7f4c3f6f",
   "metadata": {},
   "outputs": [
    {
     "name": "stdout",
     "output_type": "stream",
     "text": [
      "7\n",
      "13\n",
      "27\n",
      "32\n",
      "34\n"
     ]
    }
   ],
   "source": [
    "for i in range(len(a)):\n",
    "    if (a[i]== 'a'):\n",
    "        print(i)"
   ]
  },
  {
   "cell_type": "code",
   "execution_count": 198,
   "id": "e4b2e610",
   "metadata": {},
   "outputs": [
    {
     "data": {
      "text/plain": [
       "'we All khanre lekhanrning Full Stkhanck Dkhantkhan science'"
      ]
     },
     "execution_count": 198,
     "metadata": {},
     "output_type": "execute_result"
    }
   ],
   "source": [
    "a.replace('a','khan')"
   ]
  },
  {
   "cell_type": "code",
   "execution_count": 199,
   "id": "6a313407",
   "metadata": {},
   "outputs": [],
   "source": [
    "g = [a]"
   ]
  },
  {
   "cell_type": "code",
   "execution_count": 200,
   "id": "32e84f27",
   "metadata": {},
   "outputs": [
    {
     "data": {
      "text/plain": [
       "['we All are learning Full Stack Data science']"
      ]
     },
     "execution_count": 200,
     "metadata": {},
     "output_type": "execute_result"
    }
   ],
   "source": [
    "g"
   ]
  },
  {
   "cell_type": "code",
   "execution_count": 201,
   "id": "b6922fac",
   "metadata": {},
   "outputs": [
    {
     "data": {
      "text/plain": [
       "list"
      ]
     },
     "execution_count": 201,
     "metadata": {},
     "output_type": "execute_result"
    }
   ],
   "source": [
    "type(g)"
   ]
  }
 ],
 "metadata": {
  "kernelspec": {
   "display_name": "Python 3 (ipykernel)",
   "language": "python",
   "name": "python3"
  },
  "language_info": {
   "codemirror_mode": {
    "name": "ipython",
    "version": 3
   },
   "file_extension": ".py",
   "mimetype": "text/x-python",
   "name": "python",
   "nbconvert_exporter": "python",
   "pygments_lexer": "ipython3",
   "version": "3.9.12"
  }
 },
 "nbformat": 4,
 "nbformat_minor": 5
}
